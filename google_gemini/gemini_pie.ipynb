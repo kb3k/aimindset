{
 "cells": [
  {
   "cell_type": "code",
   "execution_count": 2,
   "id": "5718ca60",
   "metadata": {},
   "outputs": [],
   "source": [
    "# The below code was provided fully by Gemini"
   ]
  },
  {
   "cell_type": "code",
   "execution_count": 1,
   "id": "304833a7",
   "metadata": {},
   "outputs": [
    {
     "data": {
      "text/html": [
       "\n",
       "<style>\n",
       "  #altair-viz-02064bf69823497aa4b2472713697db2.vega-embed {\n",
       "    width: 100%;\n",
       "    display: flex;\n",
       "  }\n",
       "\n",
       "  #altair-viz-02064bf69823497aa4b2472713697db2.vega-embed details,\n",
       "  #altair-viz-02064bf69823497aa4b2472713697db2.vega-embed details summary {\n",
       "    position: relative;\n",
       "  }\n",
       "</style>\n",
       "<div id=\"altair-viz-02064bf69823497aa4b2472713697db2\"></div>\n",
       "<script type=\"text/javascript\">\n",
       "  var VEGA_DEBUG = (typeof VEGA_DEBUG == \"undefined\") ? {} : VEGA_DEBUG;\n",
       "  (function(spec, embedOpt){\n",
       "    let outputDiv = document.currentScript.previousElementSibling;\n",
       "    if (outputDiv.id !== \"altair-viz-02064bf69823497aa4b2472713697db2\") {\n",
       "      outputDiv = document.getElementById(\"altair-viz-02064bf69823497aa4b2472713697db2\");\n",
       "    }\n",
       "    const paths = {\n",
       "      \"vega\": \"https://cdn.jsdelivr.net/npm/vega@5?noext\",\n",
       "      \"vega-lib\": \"https://cdn.jsdelivr.net/npm/vega-lib?noext\",\n",
       "      \"vega-lite\": \"https://cdn.jsdelivr.net/npm/vega-lite@5.20.1?noext\",\n",
       "      \"vega-embed\": \"https://cdn.jsdelivr.net/npm/vega-embed@6?noext\",\n",
       "    };\n",
       "\n",
       "    function maybeLoadScript(lib, version) {\n",
       "      var key = `${lib.replace(\"-\", \"\")}_version`;\n",
       "      return (VEGA_DEBUG[key] == version) ?\n",
       "        Promise.resolve(paths[lib]) :\n",
       "        new Promise(function(resolve, reject) {\n",
       "          var s = document.createElement('script');\n",
       "          document.getElementsByTagName(\"head\")[0].appendChild(s);\n",
       "          s.async = true;\n",
       "          s.onload = () => {\n",
       "            VEGA_DEBUG[key] = version;\n",
       "            return resolve(paths[lib]);\n",
       "          };\n",
       "          s.onerror = () => reject(`Error loading script: ${paths[lib]}`);\n",
       "          s.src = paths[lib];\n",
       "        });\n",
       "    }\n",
       "\n",
       "    function showError(err) {\n",
       "      outputDiv.innerHTML = `<div class=\"error\" style=\"color:red;\">${err}</div>`;\n",
       "      throw err;\n",
       "    }\n",
       "\n",
       "    function displayChart(vegaEmbed) {\n",
       "      vegaEmbed(outputDiv, spec, embedOpt)\n",
       "        .catch(err => showError(`Javascript Error: ${err.message}<br>This usually means there's a typo in your chart specification. See the javascript console for the full traceback.`));\n",
       "    }\n",
       "\n",
       "    if(typeof define === \"function\" && define.amd) {\n",
       "      requirejs.config({paths});\n",
       "      require([\"vega-embed\"], displayChart, err => showError(`Error loading script: ${err.message}`));\n",
       "    } else {\n",
       "      maybeLoadScript(\"vega\", \"5\")\n",
       "        .then(() => maybeLoadScript(\"vega-lite\", \"5.20.1\"))\n",
       "        .then(() => maybeLoadScript(\"vega-embed\", \"6\"))\n",
       "        .catch(showError)\n",
       "        .then(() => displayChart(vegaEmbed));\n",
       "    }\n",
       "  })({\"config\": {\"view\": {\"continuousWidth\": 300, \"continuousHeight\": 300}}, \"data\": {\"name\": \"data-f82425c8c0f51d5b9995f744be34d34c\"}, \"mark\": {\"type\": \"arc\"}, \"encoding\": {\"color\": {\"field\": \"Provider\", \"type\": \"nominal\"}, \"theta\": {\"field\": \"Market Share\", \"type\": \"quantitative\"}, \"tooltip\": [{\"field\": \"Provider\", \"type\": \"nominal\"}, {\"field\": \"Market Share\", \"type\": \"quantitative\"}]}, \"params\": [{\"name\": \"param_1\", \"select\": {\"type\": \"interval\", \"encodings\": [\"x\", \"y\"]}, \"bind\": \"scales\"}], \"title\": \"Cloud Compute Market Share\", \"$schema\": \"https://vega.github.io/schema/vega-lite/v5.20.1.json\", \"datasets\": {\"data-f82425c8c0f51d5b9995f744be34d34c\": [{\"Provider\": \"Amazon Web Services (AWS)\", \"Market Share\": 32}, {\"Provider\": \"Microsoft Azure\", \"Market Share\": 25}, {\"Provider\": \"Google Cloud Platform (GCP)\", \"Market Share\": 11}, {\"Provider\": \"Alibaba Cloud\", \"Market Share\": 4}, {\"Provider\": \"Salesforce\", \"Market Share\": 3}, {\"Provider\": \"IBM Cloud\", \"Market Share\": 2}, {\"Provider\": \"Oracle\", \"Market Share\": 2}, {\"Provider\": \"Tencent Cloud\", \"Market Share\": 2}]}}, {\"mode\": \"vega-lite\"});\n",
       "</script>"
      ],
      "text/plain": [
       "alt.Chart(...)"
      ]
     },
     "execution_count": 1,
     "metadata": {},
     "output_type": "execute_result"
    }
   ],
   "source": [
    "import pandas as pd\n",
    "import altair as alt\n",
    "\n",
    "# Data for the pie chart\n",
    "data = pd.DataFrame({\n",
    "    'Provider': ['Amazon Web Services (AWS)', 'Microsoft Azure', 'Google Cloud Platform (GCP)', 'Alibaba Cloud', 'Salesforce', 'IBM Cloud', 'Oracle', 'Tencent Cloud'],\n",
    "    'Market Share': [32, 25, 11, 4, 3, 2, 2, 2]\n",
    "})\n",
    "\n",
    "# Create the pie chart\n",
    "pie_chart = alt.Chart(data).mark_arc().encode(\n",
    "    theta=alt.Theta(field=\"Market Share\", type=\"quantitative\"),\n",
    "    color=alt.Color(field=\"Provider\", type=\"nominal\"),\n",
    "    tooltip=[\"Provider\", \"Market Share\"]\n",
    ").properties(\n",
    "    title='Cloud Compute Market Share'\n",
    ").interactive()\n",
    "\n",
    "# Display the chart\n",
    "pie_chart"
   ]
  },
  {
   "cell_type": "code",
   "execution_count": null,
   "id": "f2e199b1",
   "metadata": {},
   "outputs": [],
   "source": []
  }
 ],
 "metadata": {
  "kernelspec": {
   "display_name": "Python 3 (ipykernel)",
   "language": "python",
   "name": "python3"
  },
  "language_info": {
   "codemirror_mode": {
    "name": "ipython",
    "version": 3
   },
   "file_extension": ".py",
   "mimetype": "text/x-python",
   "name": "python",
   "nbconvert_exporter": "python",
   "pygments_lexer": "ipython3",
   "version": "3.10.0"
  }
 },
 "nbformat": 4,
 "nbformat_minor": 5
}
